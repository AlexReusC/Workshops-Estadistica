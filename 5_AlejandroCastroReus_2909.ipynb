{
 "cells": [
  {
   "cell_type": "code",
   "execution_count": 1,
   "metadata": {},
   "outputs": [],
   "source": [
    "import pandas_datareader as pdr\n",
    "import pandas as pd\n",
    "import numpy as np\n",
    "import matplotlib\n",
    "import matplotlib.pyplot as plt\n",
    "\n",
    "# Getting price data and selecting adjusted price columns:\n",
    "sprices = pdr.get_data_yahoo(['ALFAA.MX','^MXX'],start=\"01/01/2018\", end=\"07/31/2022\",interval=\"m\")\n",
    "sprices = sprices['Adj Close']\n",
    "\n",
    "# Calculating returns:\n",
    "sr = np.log(sprices) - np.log(sprices.shift(1))\n",
    "# Deleting the first month with NAs:\n",
    "sr=sr.dropna()\n",
    "sr.columns=['ALFAA','MXX']"
   ]
  },
  {
   "cell_type": "code",
   "execution_count": 2,
   "metadata": {},
   "outputs": [
    {
     "data": {
      "image/png": "[encoded data removed]",
      "text/plain": [
       "<Figure size 432x288 with 1 Axes>"
      ]
     },
     "metadata": {
      "needs_background": "light"
     },
     "output_type": "display_data"
    }
   ],
   "source": [
    "# Scatter plots can be misleading when ranges of X and Y are very different.\n",
    "# In this case, Alfa had a very bad month in the COVID crisis with more than 60% loss!! \n",
    "# Then, we can re-do the scatter plot trying to make the X and Y axis using the same range of values \n",
    "plt.clf()\n",
    "x=sr['MXX']\n",
    "y = sr['ALFAA']\n",
    "plt.scatter(x, y)\n",
    "# Now I add the regression line:\n",
    "b1,b0 = np.polyfit(x,y,1)\n",
    "yfit = b0+b1*x\n",
    "\n",
    "plt.plot(x, yfit,c=\"orange\")\n",
    "\n",
    "plt.xticks(np.arange(-0.50,0.5,0.1))\n",
    "plt.xlabel(\"Market returns\")\n",
    "plt.ylabel(\"Alfa returns\")\n",
    "\n",
    "plt.show()"
   ]
  },
  {
   "cell_type": "code",
   "execution_count": 3,
   "metadata": {},
   "outputs": [
    {
     "name": "stderr",
     "output_type": "stream",
     "text": [
      "/home/reus/.local/lib/python3.8/site-packages/seaborn/_decorators.py:36: FutureWarning: Pass the following variables as keyword args: x, y. From version 0.12, the only valid positional argument will be `data`, and passing other arguments without an explicit keyword will result in an error or misinterpretation.\n",
      "  warnings.warn(\n"
     ]
    },
    {
     "data": {
      "image/png": "[encoded data removed]",
      "text/plain": [
       "<Figure size 432x288 with 1 Axes>"
      ]
     },
     "metadata": {
      "needs_background": "light"
     },
     "output_type": "display_data"
    }
   ],
   "source": [
    "# Another faster way to plot a scatter and the regression line:\n",
    "# I use the seaborn library:\n",
    "import seaborn as sns\n",
    "plt.clf()\n",
    "\n",
    "sns.regplot(x, y)\n",
    "plt.xticks(np.arange(-0.50,0.5,0.1))\n",
    "plt.xlabel(\"Market returns\")\n",
    "plt.ylabel(\"Alfa returns\")\n",
    "\n",
    "plt.show()"
   ]
  },
  {
   "cell_type": "code",
   "execution_count": 4,
   "metadata": {},
   "outputs": [
    {
     "name": "stdout",
     "output_type": "stream",
     "text": [
      "                            OLS Regression Results                            \n",
      "==============================================================================\n",
      "Dep. Variable:                  ALFAA   R-squared:                       0.354\n",
      "Model:                            OLS   Adj. R-squared:                  0.342\n",
      "Method:                 Least Squares   F-statistic:                     29.10\n",
      "Date:                Fri, 02 Sep 2022   Prob (F-statistic):           1.63e-06\n",
      "Time:                        07:46:38   Log-Likelihood:                 43.901\n",
      "No. Observations:                  55   AIC:                            -83.80\n",
      "Df Residuals:                      53   BIC:                            -79.79\n",
      "Df Model:                           1                                         \n",
      "Covariance Type:            nonrobust                                         \n",
      "==============================================================================\n",
      "                 coef    std err          t      P>|t|      [0.025      0.975]\n",
      "------------------------------------------------------------------------------\n",
      "const         -0.0075      0.015     -0.501      0.618      -0.038       0.023\n",
      "MXX            1.5274      0.283      5.394      0.000       0.959       2.095\n",
      "==============================================================================\n",
      "Omnibus:                        9.683   Durbin-Watson:                   2.207\n",
      "Prob(Omnibus):                  0.008   Jarque-Bera (JB):               23.380\n",
      "Skew:                          -0.155   Prob(JB):                     8.38e-06\n",
      "Kurtosis:                       6.179   Cond. No.                         18.9\n",
      "==============================================================================\n",
      "\n",
      "Notes:\n",
      "[1] Standard Errors assume that the covariance matrix of the errors is correctly specified.\n"
     ]
    }
   ],
   "source": [
    "import statsmodels.api as sm\n",
    "X = sm.add_constant(x)\n",
    "\n",
    "mkmodel = sm.OLS(y,X).fit()\n",
    " \n",
    "print(mkmodel.summary())"
   ]
  },
  {
   "cell_type": "code",
   "execution_count": 5,
   "metadata": {},
   "outputs": [
    {
     "name": "stdout",
     "output_type": "stream",
     "text": [
      "                            OLS Regression Results                            \n",
      "==============================================================================\n",
      "Dep. Variable:                  ALFAA   R-squared:                       0.354\n",
      "Model:                            OLS   Adj. R-squared:                  0.342\n",
      "Method:                 Least Squares   F-statistic:                     29.10\n",
      "Date:                Fri, 02 Sep 2022   Prob (F-statistic):           1.63e-06\n",
      "Time:                        08:18:43   Log-Likelihood:                 43.901\n",
      "No. Observations:                  55   AIC:                            -83.80\n",
      "Df Residuals:                      53   BIC:                            -79.79\n",
      "Df Model:                           1                                         \n",
      "Covariance Type:            nonrobust                                         \n",
      "==============================================================================\n",
      "                 coef    std err          t      P>|t|      [0.025      0.975]\n",
      "------------------------------------------------------------------------------\n",
      "Intercept     -0.0075      0.015     -0.501      0.618      -0.038       0.023\n",
      "MXX            1.5274      0.283      5.394      0.000       0.959       2.095\n",
      "==============================================================================\n",
      "Omnibus:                        9.683   Durbin-Watson:                   2.207\n",
      "Prob(Omnibus):                  0.008   Jarque-Bera (JB):               23.380\n",
      "Skew:                          -0.155   Prob(JB):                     8.38e-06\n",
      "Kurtosis:                       6.179   Cond. No.                         18.9\n",
      "==============================================================================\n",
      "\n",
      "Notes:\n",
      "[1] Standard Errors assume that the covariance matrix of the errors is correctly specified.\n"
     ]
    }
   ],
   "source": [
    "# Another way to run the same model using the ols function (instead of the OLS function):\n",
    "import statsmodels.formula.api as smf\n",
    "\n",
    "mkmodel2 = smf.ols('ALFAA ~ MXX',data=sr).fit()\n",
    " \n",
    "print(mkmodel2.summary())"
   ]
  },
  {
   "cell_type": "code",
   "execution_count": 6,
   "metadata": {},
   "outputs": [
    {
     "data": {
      "text/plain": [
       "array([-0.00750561,  1.5273759 ])"
      ]
     },
     "execution_count": 6,
     "metadata": {},
     "output_type": "execute_result"
    }
   ],
   "source": [
    "# Using matrix algebra to estimate the beta coefficients:\n",
    "sr['constant'] = 1\n",
    "selcols = ['constant','MXX']\n",
    "x = sr[selcols].values\n",
    "y = sr['ALFAA'].values\n",
    "\n",
    "xtx = np.matmul(x.transpose(),x)\n",
    "xty = np.matmul(x.transpose(),y)\n",
    "invtxt = np.linalg.inv(xtx)\n",
    "\n",
    "betas = np.matmul(invtxt,xty)\n",
    "betas"
   ]
  }
 ],
 "metadata": {
  "kernelspec": {
   "display_name": "Python 3.8.10 64-bit",
   "language": "python",
   "name": "python3"
  },
  "language_info": {
   "codemirror_mode": {
    "name": "ipython",
    "version": 3
   },
   "file_extension": ".py",
   "mimetype": "text/x-python",
   "name": "python",
   "nbconvert_exporter": "python",
   "pygments_lexer": "ipython3",
   "version": "3.8.10"
  },
  "orig_nbformat": 4,
  "vscode": {
   "interpreter": {
    "hash": "916dbcbb3f70747c44a77c7bcd40155683ae19c65e1c03b4aa3499c5328201f1"
   }
  }
 },
 "nbformat": 4,
 "nbformat_minor": 2
}
