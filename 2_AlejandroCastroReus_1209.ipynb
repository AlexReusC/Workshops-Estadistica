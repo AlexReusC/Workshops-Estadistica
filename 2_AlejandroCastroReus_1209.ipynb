{
 "cells": [
  {
   "cell_type": "code",
   "execution_count": 36,
   "metadata": {},
   "outputs": [],
   "source": [
    "from symbulate import *\n",
    "#'exec(%matplotlib inline)' \n",
    "import matplotlib\n",
    "\n",
    "import matplotlib.pyplot as plt"
   ]
  },
  {
   "cell_type": "code",
   "execution_count": 37,
   "metadata": {},
   "outputs": [
    {
     "data": {
      "image/png": "[encoded data removed]",
      "text/plain": [
       "<Figure size 432x288 with 1 Axes>"
      ]
     },
     "metadata": {
      "needs_background": "light"
     },
     "output_type": "display_data"
    }
   ],
   "source": [
    "# clear the plot space:\n",
    "plt.clf()\n",
    "# Define the probability type of function as uniform (probability space)\n",
    "P = Uniform(0,40)\n",
    "# Define X as a random variable of the type P (uniform)\n",
    "X =RV(P)\n",
    "# Simulate the values of X and save the in the x array: \n",
    "x=X.sim(10000)\n",
    "x.plot()\n",
    "plt.show()"
   ]
  },
  {
   "cell_type": "code",
   "execution_count": 38,
   "metadata": {},
   "outputs": [
    {
     "name": "stdout",
     "output_type": "stream",
     "text": [
      "Mean: 19.885217326237353\n",
      "Standard deviation: 11.64436075021992\n",
      "Variance: 135.59113728126223\n"
     ]
    }
   ],
   "source": [
    "x_mean = x.mean()\n",
    "x_std = x.std()\n",
    "x_var = x.var()\n",
    "print(\"Mean:\", x_mean)\n",
    "print(\"Standard deviation:\", x_std)\n",
    "print(\"Variance:\", x_var)\n",
    "\n",
    "# ESTUVIERON MUY CERCA CONSIDERANDO QUE SOLO SE DIFERENCIA POR APROXIMANDAMENTE 2 DECIMAS\n",
    "\n",
    "# PUEDO VER QUE SE REPARTE LA DENSIDAD UNIFORMEMENTE, NO TODAS LAS DENSIDADES TIENEN EL MISMO VALOR PERO ESTÁN MUY CERCANAS"
   ]
  },
  {
   "cell_type": "code",
   "execution_count": 39,
   "metadata": {},
   "outputs": [],
   "source": [
    "# Define the probability space as a vector of 25 uniform random numbers:\n",
    "P = Uniform(0,40) ** 25\n",
    "# Define XVECTOR as a vector of random variables with 25 random values \n",
    "XVECTOR =RV(P)\n",
    "# Simulate 10,000 vectors to get a matrix  \n",
    "xmatrix=XVECTOR.sim(10000)"
   ]
  },
  {
   "cell_type": "code",
   "execution_count": 40,
   "metadata": {},
   "outputs": [
    {
     "data": {
      "text/html": [
       "\n",
       "    <table>\n",
       "      <thead>\n",
       "        <th width=\"10%\">Index</th>\n",
       "        <th width=\"90%\">Result</th>\n",
       "      </thead>\n",
       "      <tbody>\n",
       "        \n",
       "        <tr>\n",
       "          <td>0</td><td>(39.31609089779428, 0.9749571848690053, 27.384992568222543, 15.927777608552836, 39.74295698954655, ....</td>\n",
       "        </tr>\n",
       "        \n",
       "        <tr>\n",
       "          <td>1</td><td>(10.932009450249769, 13.470449138521502, 32.44606354050148, 39.028335577245876, 25.503949616148745, ...</td>\n",
       "        </tr>\n",
       "        \n",
       "        <tr>\n",
       "          <td>2</td><td>(5.528779636837089, 36.50123244599819, 21.396058750409924, 23.530879732888728, 38.56755375682282, .....</td>\n",
       "        </tr>\n",
       "        \n",
       "        <tr>\n",
       "          <td>3</td><td>(0.9360487118052152, 27.708382508118078, 25.42312129772597, 10.068792152313675, 11.270933350222263, ...</td>\n",
       "        </tr>\n",
       "        \n",
       "        <tr>\n",
       "          <td>4</td><td>(30.61662827088035, 14.312889653019273, 21.181829109843907, 35.94358827280233, 11.81686882774672, .....</td>\n",
       "        </tr>\n",
       "        \n",
       "        <tr>\n",
       "          <td>5</td><td>(39.77682403393128, 39.97669306001934, 34.06776713623814, 3.390456038254386, 23.24553516073918, ...,...</td>\n",
       "        </tr>\n",
       "        \n",
       "        <tr>\n",
       "          <td>6</td><td>(26.203792700733235, 25.473858530216482, 22.691525351249282, 17.425097271102846, 26.97685876624218, ...</td>\n",
       "        </tr>\n",
       "        \n",
       "        <tr>\n",
       "          <td>7</td><td>(27.006502002303726, 1.9938383225338807, 36.18703303827438, 9.959561311227407, 30.351075636868433, ....</td>\n",
       "        </tr>\n",
       "        \n",
       "        <tr>\n",
       "          <td>8</td><td>(8.884531261405861, 2.5700218479896897, 9.827189128674142, 12.785076854009706, 37.504051922884535, ....</td>\n",
       "        </tr>\n",
       "        <tr><td>...</td><td>...</td></tr>\n",
       "        <tr>\n",
       "          <td>9999</td><td>(4.365987489227154, 32.834204159561686, 9.085590738366767, 10.881804290076186, 39.82027120315304, .....</td>\n",
       "        </tr>\n",
       "        \n",
       "      </tbody>\n",
       "    </table>\n",
       "        "
      ],
      "text/plain": [
       "Index Result\n",
       "0     (39.31609089779428, 0.9749571848690053, 27.384992568222543, 15.927777608552836, 39.74295698954655, ..., 25.792948780470294)\n",
       "1     (10.932009450249769, 13.470449138521502, 32.44606354050148, 39.028335577245876, 25.503949616148745, ..., 25.149646808994298)\n",
       "2     (5.528779636837089, 36.50123244599819, 21.396058750409924, 23.530879732888728, 38.56755375682282, ..., 33.11907456637421)\n",
       "3     (0.9360487118052152, 27.708382508118078, 25.42312129772597, 10.068792152313675, 11.270933350222263, ..., 11.59916680991747)\n",
       "4     (30.61662827088035, 14.312889653019273, 21.181829109843907, 35.94358827280233, 11.81686882774672, ..., 3.486418640303297)\n",
       "5     (39.77682403393128, 39.97669306001934, 34.06776713623814, 3.390456038254386, 23.24553516073918, ..., 12.724893272253333)\n",
       "6     (26.203792700733235, 25.473858530216482, 22.691525351249282, 17.425097271102846, 26.97685876624218, ..., 18.914511298541722)\n",
       "7     (27.006502002303726, 1.9938383225338807, 36.18703303827438, 9.959561311227407, 30.351075636868433, ..., 2.5845573670294675)\n",
       "8     (8.884531261405861, 2.5700218479896897, 9.827189128674142, 12.785076854009706, 37.504051922884535, ..., 11.613030415221552)\n",
       "....  .........................................................................................................................\n",
       "9999  (4.365987489227154, 32.834204159561686, 9.085590738366767, 10.881804290076186, 39.82027120315304, ..., 9.291712877876087)"
      ]
     },
     "execution_count": 40,
     "metadata": {},
     "output_type": "execute_result"
    }
   ],
   "source": [
    "xmatrix"
   ]
  },
  {
   "cell_type": "code",
   "execution_count": 41,
   "metadata": {},
   "outputs": [
    {
     "data": {
      "text/html": [
       "\n",
       "    <table>\n",
       "      <thead>\n",
       "        <th width=\"10%\">Index</th>\n",
       "        <th width=\"90%\">Result</th>\n",
       "      </thead>\n",
       "      <tbody>\n",
       "        \n",
       "        <tr>\n",
       "          <td>0</td><td>19.005449969981626</td>\n",
       "        </tr>\n",
       "        \n",
       "        <tr>\n",
       "          <td>1</td><td>19.006113142520718</td>\n",
       "        </tr>\n",
       "        \n",
       "        <tr>\n",
       "          <td>2</td><td>18.164659495763306</td>\n",
       "        </tr>\n",
       "        \n",
       "        <tr>\n",
       "          <td>3</td><td>17.65733401108827</td>\n",
       "        </tr>\n",
       "        \n",
       "        <tr>\n",
       "          <td>4</td><td>16.389775260865214</td>\n",
       "        </tr>\n",
       "        \n",
       "        <tr>\n",
       "          <td>5</td><td>18.948854670341454</td>\n",
       "        </tr>\n",
       "        \n",
       "        <tr>\n",
       "          <td>6</td><td>22.64213535531162</td>\n",
       "        </tr>\n",
       "        \n",
       "        <tr>\n",
       "          <td>7</td><td>22.463687783728652</td>\n",
       "        </tr>\n",
       "        \n",
       "        <tr>\n",
       "          <td>8</td><td>18.20609859328173</td>\n",
       "        </tr>\n",
       "        <tr><td>...</td><td>...</td></tr>\n",
       "        <tr>\n",
       "          <td>9999</td><td>19.724613776196534</td>\n",
       "        </tr>\n",
       "        \n",
       "      </tbody>\n",
       "    </table>\n",
       "        "
      ],
      "text/plain": [
       "Index Result\n",
       "0     19.005449969981626\n",
       "1     19.006113142520718\n",
       "2     18.164659495763306\n",
       "3     17.65733401108827\n",
       "4     16.389775260865214\n",
       "5     18.948854670341454\n",
       "6     22.64213535531162\n",
       "7     22.463687783728652\n",
       "8     18.20609859328173\n",
       "....  ..................\n",
       "9999  19.724613776196534"
      ]
     },
     "execution_count": 41,
     "metadata": {},
     "output_type": "execute_result"
    }
   ],
   "source": [
    "# The 2nd parameter is the mathematical operation applied to each row of the random vector\n",
    "# Simulate 10,000 means of each random vector of 25 uniform distributed numbers: \n",
    "xmean = RV(P,mean).sim(10000)\n",
    "xmean"
   ]
  },
  {
   "cell_type": "code",
   "execution_count": 42,
   "metadata": {},
   "outputs": [
    {
     "data": {
      "image/png": "[encoded data removed]",
      "text/plain": [
       "<Figure size 432x288 with 1 Axes>"
      ]
     },
     "metadata": {
      "needs_background": "light"
     },
     "output_type": "display_data"
    }
   ],
   "source": [
    "plt.clf()\n",
    "xmean.plot()\n",
    "plt.show()"
   ]
  },
  {
   "cell_type": "code",
   "execution_count": 43,
   "metadata": {},
   "outputs": [
    {
     "name": "stdout",
     "output_type": "stream",
     "text": [
      "Mean: 19.963599237980723\n",
      "Standard deviation: 2.2723976973871673\n",
      "Variance: 5.163791295090499\n"
     ]
    }
   ],
   "source": [
    "xmean_mean = xmean.mean()\n",
    "xmean_std = xmean.std()\n",
    "xmean_var = xmean.var()\n",
    "print(\"Mean:\", xmean_mean)\n",
    "print(\"Standard deviation:\", xmean_std)\n",
    "print(\"Variance:\", xmean_var)\n",
    "\n",
    "# LA MEDIA ES MUY CERCANA PERO LA DESVIACIÓN ESTÁNDAR ES BASTANTE MENOR\n",
    "\n",
    "# SE APRECIA QUE LA LÓGICA ES QUE LOS VALORES SE APROXIMAN A LA MEDIA Y ENTRE MÁS SE ALEJAN MENOS VALORES HAY\n"
   ]
  },
  {
   "cell_type": "code",
   "execution_count": 44,
   "metadata": {},
   "outputs": [
    {
     "data": {
      "image/png": "[encoded data removed]",
      "text/plain": [
       "<Figure size 432x288 with 1 Axes>"
      ]
     },
     "metadata": {
      "needs_background": "light"
     },
     "output_type": "display_data"
    }
   ],
   "source": [
    "plt.clf()\n",
    "xmean.plot()\n",
    "x.plot()\n",
    "plt.show()\n",
    "\n",
    "# SE APRECIA QUE EL HISTOGRAMA DE X ES BASTANTE PLANO MIENTRAS QUE DE X_MEAN SE VAN LOS VALORES AL CENTRO"
   ]
  },
  {
   "cell_type": "code",
   "execution_count": 45,
   "metadata": {},
   "outputs": [
    {
     "data": {
      "image/png": "[encoded data removed]",
      "text/plain": [
       "<Figure size 432x288 with 1 Axes>"
      ]
     },
     "metadata": {
      "needs_background": "light"
     },
     "output_type": "display_data"
    }
   ],
   "source": [
    "# clear the plot space:\n",
    "plt.clf()\n",
    "# Define the probability type of function as uniform (probability space)\n",
    "P = Normal(mean=20, sd=10)\n",
    "# Define Y as a random variable of the type P (normal)\n",
    "Y =RV(P)\n",
    "# Simulate 10,000 values of Y and save the in the x array: \n",
    "y=Y.sim(10000)\n",
    "y.plot()\n",
    "plt.show()"
   ]
  },
  {
   "cell_type": "code",
   "execution_count": 46,
   "metadata": {},
   "outputs": [
    {
     "name": "stdout",
     "output_type": "stream",
     "text": [
      "Mean: 19.873120808215702\n",
      "Standard deviation: 10.076261782894772\n"
     ]
    }
   ],
   "source": [
    "y_mean = y.mean()\n",
    "y_std = y.std()\n",
    "print(\"Mean:\", y_mean)\n",
    "print(\"Standard deviation:\", y_std)\n",
    "\n",
    "# SON BASTANTE CERCANOS A LOS VALORES TEÓRICOS, ALEJANDONSE POR MENOS DE 2 DECIMAS\n",
    "\n",
    "# LA GRÁFICA COMPARTE LAS CARACTERÍSTICAS DEL X_MEAN: LA MAYOR DENSIDAD DE VALORES ESTÁ ENTRE MÁS SE ACERCA A LA MEDIA \n"
   ]
  },
  {
   "cell_type": "code",
   "execution_count": 47,
   "metadata": {},
   "outputs": [],
   "source": [
    "# Define the probability space P as a vector of 25 normal random numbers:\n",
    "P = Normal(mean=20, sd=10) ** 25\n",
    "# Define RANDOMVECTOR as a vector of 25 random variables in the Probability space P \n",
    "RANDOMVECTOR = RV(P)\n",
    "# Simulate 10,000 random vectors with this distribution and save the in ymatrix: \n",
    "ymatrix=RANDOMVECTOR.sim(10000)"
   ]
  },
  {
   "cell_type": "code",
   "execution_count": 48,
   "metadata": {},
   "outputs": [
    {
     "data": {
      "text/html": [
       "\n",
       "    <table>\n",
       "      <thead>\n",
       "        <th width=\"10%\">Index</th>\n",
       "        <th width=\"90%\">Result</th>\n",
       "      </thead>\n",
       "      <tbody>\n",
       "        \n",
       "        <tr>\n",
       "          <td>0</td><td>(30.251822621363665, 10.237008525634625, 19.482596331527123, 25.41067974928445, 27.017983103475885, ...</td>\n",
       "        </tr>\n",
       "        \n",
       "        <tr>\n",
       "          <td>1</td><td>(29.632183166629808, 35.90334552835195, 20.657327307762653, 27.57365119165245, 29.785612189948182, ....</td>\n",
       "        </tr>\n",
       "        \n",
       "        <tr>\n",
       "          <td>2</td><td>(33.09340805099566, 18.559165424456083, 15.843866965608054, 23.376307030018715, 3.725968189002703, ....</td>\n",
       "        </tr>\n",
       "        \n",
       "        <tr>\n",
       "          <td>3</td><td>(22.585596676463666, 5.218717448760417, 8.27559918301331, 17.135388026916008, 10.467056140795343, .....</td>\n",
       "        </tr>\n",
       "        \n",
       "        <tr>\n",
       "          <td>4</td><td>(38.52083914842666, 36.54414530165069, 27.582515927124376, 36.70083100611971, 36.75153370685044, ......</td>\n",
       "        </tr>\n",
       "        \n",
       "        <tr>\n",
       "          <td>5</td><td>(15.201612819361424, 17.664090321440785, 9.795086433188825, 26.66678244205698, 19.962989700702348, ....</td>\n",
       "        </tr>\n",
       "        \n",
       "        <tr>\n",
       "          <td>6</td><td>(7.446474144486121, 30.580480772190285, 14.58269905027715, 27.625216824875256, -0.3810360283580323, ...</td>\n",
       "        </tr>\n",
       "        \n",
       "        <tr>\n",
       "          <td>7</td><td>(30.857422768981312, 19.511528358114234, 7.924994522572488, 6.812005904707391, 30.291565334994182, ....</td>\n",
       "        </tr>\n",
       "        \n",
       "        <tr>\n",
       "          <td>8</td><td>(11.095843374168844, 5.2784803523385335, 32.804649610607555, 29.467935015843707, 32.45813562320944, ...</td>\n",
       "        </tr>\n",
       "        <tr><td>...</td><td>...</td></tr>\n",
       "        <tr>\n",
       "          <td>9999</td><td>(14.923855803155213, 23.425186800748584, 10.004277588940713, 20.25351724186402, 18.049613274869394, ...</td>\n",
       "        </tr>\n",
       "        \n",
       "      </tbody>\n",
       "    </table>\n",
       "        "
      ],
      "text/plain": [
       "Index Result\n",
       "0     (30.251822621363665, 10.237008525634625, 19.482596331527123, 25.41067974928445, 27.017983103475885, ..., 28.527706697362895)\n",
       "1     (29.632183166629808, 35.90334552835195, 20.657327307762653, 27.57365119165245, 29.785612189948182, ..., 22.621115071415954)\n",
       "2     (33.09340805099566, 18.559165424456083, 15.843866965608054, 23.376307030018715, 3.725968189002703, ..., 36.523298063510396)\n",
       "3     (22.585596676463666, 5.218717448760417, 8.27559918301331, 17.135388026916008, 10.467056140795343, ..., 20.246231198885706)\n",
       "4     (38.52083914842666, 36.54414530165069, 27.582515927124376, 36.70083100611971, 36.75153370685044, ..., 11.903505797398159)\n",
       "5     (15.201612819361424, 17.664090321440785, 9.795086433188825, 26.66678244205698, 19.962989700702348, ..., 26.266613929047466)\n",
       "6     (7.446474144486121, 30.580480772190285, 14.58269905027715, 27.625216824875256, -0.3810360283580323, ..., 10.110304956736073)\n",
       "7     (30.857422768981312, 19.511528358114234, 7.924994522572488, 6.812005904707391, 30.291565334994182, ..., 36.43446998700426)\n",
       "8     (11.095843374168844, 5.2784803523385335, 32.804649610607555, 29.467935015843707, 32.45813562320944, ..., 27.382059590246783)\n",
       "....  ............................................................................................................................\n",
       "9999  (14.923855803155213, 23.425186800748584, 10.004277588940713, 20.25351724186402, 18.049613274869394, ..., 25.306719067800884)"
      ]
     },
     "execution_count": 48,
     "metadata": {},
     "output_type": "execute_result"
    }
   ],
   "source": [
    "ymatrix"
   ]
  },
  {
   "cell_type": "code",
   "execution_count": 49,
   "metadata": {},
   "outputs": [
    {
     "data": {
      "text/html": [
       "\n",
       "    <table>\n",
       "      <thead>\n",
       "        <th width=\"10%\">Index</th>\n",
       "        <th width=\"90%\">Result</th>\n",
       "      </thead>\n",
       "      <tbody>\n",
       "        \n",
       "        <tr>\n",
       "          <td>0</td><td>20.783608976147825</td>\n",
       "        </tr>\n",
       "        \n",
       "        <tr>\n",
       "          <td>1</td><td>19.28253044610667</td>\n",
       "        </tr>\n",
       "        \n",
       "        <tr>\n",
       "          <td>2</td><td>22.406416293666954</td>\n",
       "        </tr>\n",
       "        \n",
       "        <tr>\n",
       "          <td>3</td><td>19.156463819568724</td>\n",
       "        </tr>\n",
       "        \n",
       "        <tr>\n",
       "          <td>4</td><td>19.973583570034773</td>\n",
       "        </tr>\n",
       "        \n",
       "        <tr>\n",
       "          <td>5</td><td>19.10540275332497</td>\n",
       "        </tr>\n",
       "        \n",
       "        <tr>\n",
       "          <td>6</td><td>19.729224935842186</td>\n",
       "        </tr>\n",
       "        \n",
       "        <tr>\n",
       "          <td>7</td><td>20.34901689135026</td>\n",
       "        </tr>\n",
       "        \n",
       "        <tr>\n",
       "          <td>8</td><td>23.814177859593343</td>\n",
       "        </tr>\n",
       "        <tr><td>...</td><td>...</td></tr>\n",
       "        <tr>\n",
       "          <td>9999</td><td>21.394703498893104</td>\n",
       "        </tr>\n",
       "        \n",
       "      </tbody>\n",
       "    </table>\n",
       "        "
      ],
      "text/plain": [
       "Index Result\n",
       "0     20.783608976147825\n",
       "1     19.28253044610667\n",
       "2     22.406416293666954\n",
       "3     19.156463819568724\n",
       "4     19.973583570034773\n",
       "5     19.10540275332497\n",
       "6     19.729224935842186\n",
       "7     20.34901689135026\n",
       "8     23.814177859593343\n",
       "....  ..................\n",
       "9999  21.394703498893104"
      ]
     },
     "execution_count": 49,
     "metadata": {},
     "output_type": "execute_result"
    }
   ],
   "source": [
    "# The 2nd parameter is the mathematical operation applied to each row of the random vector\n",
    "# Simulate 10,000 means of each random vector of 25 uniform distributed numbers: \n",
    "ymean = RV(P,mean).sim(10000)\n",
    "ymean"
   ]
  },
  {
   "cell_type": "code",
   "execution_count": 50,
   "metadata": {},
   "outputs": [
    {
     "data": {
      "image/png": "[encoded data removed]",
      "text/plain": [
       "<Figure size 432x288 with 1 Axes>"
      ]
     },
     "metadata": {
      "needs_background": "light"
     },
     "output_type": "display_data"
    }
   ],
   "source": [
    "plt.clf()\n",
    "ymean.plot()\n",
    "plt.show()"
   ]
  },
  {
   "cell_type": "code",
   "execution_count": 51,
   "metadata": {},
   "outputs": [
    {
     "name": "stdout",
     "output_type": "stream",
     "text": [
      "Mean: 20.013982368239276\n",
      "Standard deviation: 2.024180189448683\n"
     ]
    }
   ],
   "source": [
    "ymean_mean = ymean.mean()\n",
    "ymean_std = ymean.std()\n",
    "print(\"Mean:\", ymean_mean)\n",
    "print(\"Standard deviation:\", ymean_std)\n",
    "\n",
    "# LA MEDIA ES PRACTICAMENTE LA MISMA, MIENTRAS QUE LA DESVIACIÓN ESTÁNDAR ES APROXIMADAMENTE UN DECIMO DE LA ANTERIOR\n",
    "\n",
    "# PARECE QUE TIENE UNA RELACIÓN IMPORTANTE CON Y DEBIDO A QUE CONSERVA EL PROMEDIO Y LA PROPIEDAD DE QUE ENTRE MÁS SE ALEJA DE ÉL MENOS DENSIDAD HAY, SOLO QUE LOS VALORES SE HAN JUNTADO TODAVÍA MÁS AL CENTRO"
   ]
  },
  {
   "cell_type": "code",
   "execution_count": 52,
   "metadata": {},
   "outputs": [
    {
     "data": {
      "image/png": "[encoded data removed]",
      "text/plain": [
       "<Figure size 432x288 with 1 Axes>"
      ]
     },
     "metadata": {
      "needs_background": "light"
     },
     "output_type": "display_data"
    }
   ],
   "source": [
    "plt.clf()\n",
    "ymean.plot()\n",
    "y.plot()\n",
    "plt.show()\n",
    "\n",
    "# SE OBSERVA LO QUE MENCIONÉ EN LA SECCIÓN ANTERIOR: SON MUY PARECIDAS SOLO QUE LA DESVIACIÓN ESTÁNDAR HA DISMINUIDO. LO QUE ME PARECE QUE PASA ES QUE AL SACAR LOS PROMEDIOS LOS VALORES SE MUEVEN MÁS AL CENTRO"
   ]
  },
  {
   "cell_type": "code",
   "execution_count": 53,
   "metadata": {},
   "outputs": [],
   "source": [
    "import numpy as np\n",
    "import pandas as pd\n",
    "import pandas_datareader as pdr\n",
    "\n",
    "MSFT = pdr.get_data_yahoo('MSFT',\n",
    "start=\"01/01/2017\", interval=\"m\")"
   ]
  },
  {
   "cell_type": "code",
   "execution_count": 54,
   "metadata": {},
   "outputs": [
    {
     "name": "stdout",
     "output_type": "stream",
     "text": [
      "MSFT mean: 0.023238670323569226\n",
      "MSFT std: 0.05419379813181903\n",
      "Critical value: 1.667916113961428\n",
      "T value: 3.536031636311016\n"
     ]
    }
   ],
   "source": [
    "MSFT[\"r\"] = np.log(MSFT['Adj Close']) - np.log(MSFT['Adj Close'].shift(1))\n",
    "# H0: MSFT[\"r\"] <= 0; Ha: MSFT[\"r\"] > 0\n",
    "msft_mean = MSFT[\"r\"].mean()\n",
    "msft_std = MSFT[\"r\"].std()\n",
    "\n",
    "print(\"MSFT mean:\", msft_mean)\n",
    "print(\"MSFT std:\", msft_std)\n",
    "\n",
    "import scipy\n",
    "t_critical_value = scipy.stats.t.ppf(q=0.95, df=MSFT[\"r\"].count()-1)\n",
    "print(\"Critical value:\", t_critical_value)\n",
    "t = (msft_mean - 0) / (msft_std / math.sqrt(MSFT[\"r\"].count()))\n",
    "print(\"T value:\", t)\n",
    "\n",
    "# SE PUEDE VER QUE EL T VALUE ES MENOR AL CRITICAL VALUE POR LO QUE NO SE PUEDE DESCARTAR LA HIPÓTESIS NULA\n"
   ]
  }
 ],
 "metadata": {
  "kernelspec": {
   "display_name": "Python 3.8.10 64-bit",
   "language": "python",
   "name": "python3"
  },
  "language_info": {
   "codemirror_mode": {
    "name": "ipython",
    "version": 3
   },
   "file_extension": ".py",
   "mimetype": "text/x-python",
   "name": "python",
   "nbconvert_exporter": "python",
   "pygments_lexer": "ipython3",
   "version": "3.8.10"
  },
  "orig_nbformat": 4,
  "vscode": {
   "interpreter": {
    "hash": "916dbcbb3f70747c44a77c7bcd40155683ae19c65e1c03b4aa3499c5328201f1"
   }
  }
 },
 "nbformat": 4,
 "nbformat_minor": 2
}
