{
 "cells": [
  {
   "cell_type": "code",
   "execution_count": 2,
   "metadata": {},
   "outputs": [],
   "source": [
    "from symbulate import *\n",
    "#'exec(%matplotlib inline)' \n",
    "import matplotlib\n",
    "\n",
    "import matplotlib.pyplot as plt"
   ]
  },
  {
   "cell_type": "code",
   "execution_count": 3,
   "metadata": {},
   "outputs": [
    {
     "data": {
      "image/png": "[encoded data removed]",
      "text/plain": [
       "<Figure size 432x288 with 1 Axes>"
      ]
     },
     "metadata": {
      "needs_background": "light"
     },
     "output_type": "display_data"
    }
   ],
   "source": [
    "# clear the plot space:\n",
    "plt.clf()\n",
    "# Define the probability type of function as uniform (probability space)\n",
    "P = Uniform(0,40)\n",
    "# Define X as a random variable of the type P (uniform)\n",
    "X =RV(P)\n",
    "# Simulate the values of X and save the in the x array: \n",
    "x=X.sim(10000)\n",
    "x.plot()\n",
    "plt.show()"
   ]
  },
  {
   "cell_type": "code",
   "execution_count": 4,
   "metadata": {},
   "outputs": [
    {
     "name": "stdout",
     "output_type": "stream",
     "text": [
      "Mean: 19.851529233592878\n",
      "Standard deviation: 11.5489316794777\n",
      "Variance: 133.37782293724362\n"
     ]
    }
   ],
   "source": [
    "x_mean = x.mean()\n",
    "x_std = x.std()\n",
    "x_var = x.var()\n",
    "print(\"Mean:\", x_mean)\n",
    "print(\"Standard deviation:\", x_std)\n",
    "print(\"Variance:\", x_var)\n",
    "\n",
    "# ESTUVIERON MUY CERCA CONSIDERANDO QUE SOLO SE DIFERENCIA POR APROXIMANDAMENTE 2 DECIMAS\n",
    "\n",
    "# PUEDO VER QUE SE REPARTE LA DENSIDAD UNIFORMEMENTE, NO TODAS LAS DENSIDADES TIENEN EL MISMO VALOR PERO ESTÁN MUY CERCANAS"
   ]
  },
  {
   "cell_type": "code",
   "execution_count": 5,
   "metadata": {},
   "outputs": [],
   "source": [
    "# Define the probability space as a vector of 25 uniform random numbers:\n",
    "P = Uniform(0,40) ** 25\n",
    "# Define XVECTOR as a vector of random variables with 25 random values \n",
    "XVECTOR =RV(P)\n",
    "# Simulate 10,000 vectors to get a matrix  \n",
    "xmatrix=XVECTOR.sim(10000)"
   ]
  },
  {
   "cell_type": "code",
   "execution_count": 6,
   "metadata": {},
   "outputs": [
    {
     "data": {
      "text/html": [
       "\n",
       "    <table>\n",
       "      <thead>\n",
       "        <th width=\"10%\">Index</th>\n",
       "        <th width=\"90%\">Result</th>\n",
       "      </thead>\n",
       "      <tbody>\n",
       "        \n",
       "        <tr>\n",
       "          <td>0</td><td>(17.04981372203283, 19.508486541395985, 9.02210794518755, 35.691104010102244, 31.5533391769829, ...,...</td>\n",
       "        </tr>\n",
       "        \n",
       "        <tr>\n",
       "          <td>1</td><td>(31.24904474358271, 36.592575608504376, 26.51206007818329, 24.714030067948958, 12.270946519281951, ....</td>\n",
       "        </tr>\n",
       "        \n",
       "        <tr>\n",
       "          <td>2</td><td>(29.96773071128606, 13.763803270153403, 27.9250865742014, 35.67443223328126, 17.881316797400736, ......</td>\n",
       "        </tr>\n",
       "        \n",
       "        <tr>\n",
       "          <td>3</td><td>(36.92952274793991, 37.99129034078895, 10.673770843545878, 26.126413269755858, 11.402673519113646, ....</td>\n",
       "        </tr>\n",
       "        \n",
       "        <tr>\n",
       "          <td>4</td><td>(2.245627728575834, 25.326882190305795, 10.796606691223957, 31.763408172041068, 11.787785187235137, ...</td>\n",
       "        </tr>\n",
       "        \n",
       "        <tr>\n",
       "          <td>5</td><td>(25.575267546430016, 12.049894460631316, 34.00706211002922, 21.42137290693843, 35.13802559256802, .....</td>\n",
       "        </tr>\n",
       "        \n",
       "        <tr>\n",
       "          <td>6</td><td>(27.08263721337335, 4.782755506086125, 1.6108652279958413, 10.246074053708924, 28.431620161371804, ....</td>\n",
       "        </tr>\n",
       "        \n",
       "        <tr>\n",
       "          <td>7</td><td>(38.15402107601862, 12.308127649118411, 1.6159804556717594, 4.878739567820065, 8.921204347779334, .....</td>\n",
       "        </tr>\n",
       "        \n",
       "        <tr>\n",
       "          <td>8</td><td>(27.414478212107127, 25.02554162121392, 26.393115318077882, 18.866085351513888, 11.903894938306525, ...</td>\n",
       "        </tr>\n",
       "        <tr><td>...</td><td>...</td></tr>\n",
       "        <tr>\n",
       "          <td>9999</td><td>(23.06191484929977, 17.61513756973361, 16.504971466472043, 29.910559508894842, 7.776500498758234, .....</td>\n",
       "        </tr>\n",
       "        \n",
       "      </tbody>\n",
       "    </table>\n",
       "        "
      ],
      "text/plain": [
       "Index Result\n",
       "0     (17.04981372203283, 19.508486541395985, 9.02210794518755, 35.691104010102244, 31.5533391769829, ..., 4.342913002347237)\n",
       "1     (31.24904474358271, 36.592575608504376, 26.51206007818329, 24.714030067948958, 12.270946519281951, ..., 17.792472811584474)\n",
       "2     (29.96773071128606, 13.763803270153403, 27.9250865742014, 35.67443223328126, 17.881316797400736, ..., 3.181557273056992)\n",
       "3     (36.92952274793991, 37.99129034078895, 10.673770843545878, 26.126413269755858, 11.402673519113646, ..., 36.14649750348791)\n",
       "4     (2.245627728575834, 25.326882190305795, 10.796606691223957, 31.763408172041068, 11.787785187235137, ..., 39.938288966173296)\n",
       "5     (25.575267546430016, 12.049894460631316, 34.00706211002922, 21.42137290693843, 35.13802559256802, ..., 9.163419096081991)\n",
       "6     (27.08263721337335, 4.782755506086125, 1.6108652279958413, 10.246074053708924, 28.431620161371804, ..., 6.105378210867687)\n",
       "7     (38.15402107601862, 12.308127649118411, 1.6159804556717594, 4.878739567820065, 8.921204347779334, ..., 23.400790607838648)\n",
       "8     (27.414478212107127, 25.02554162121392, 26.393115318077882, 18.866085351513888, 11.903894938306525, ..., 17.867319789779206)\n",
       "....  .........................................................................................................................\n",
       "9999  (23.06191484929977, 17.61513756973361, 16.504971466472043, 29.910559508894842, 7.776500498758234, ..., 18.54920173183862)"
      ]
     },
     "execution_count": 6,
     "metadata": {},
     "output_type": "execute_result"
    }
   ],
   "source": [
    "xmatrix"
   ]
  },
  {
   "cell_type": "code",
   "execution_count": 7,
   "metadata": {},
   "outputs": [
    {
     "data": {
      "text/html": [
       "\n",
       "    <table>\n",
       "      <thead>\n",
       "        <th width=\"10%\">Index</th>\n",
       "        <th width=\"90%\">Result</th>\n",
       "      </thead>\n",
       "      <tbody>\n",
       "        \n",
       "        <tr>\n",
       "          <td>0</td><td>21.991474078402565</td>\n",
       "        </tr>\n",
       "        \n",
       "        <tr>\n",
       "          <td>1</td><td>17.257167247388058</td>\n",
       "        </tr>\n",
       "        \n",
       "        <tr>\n",
       "          <td>2</td><td>21.01490037888625</td>\n",
       "        </tr>\n",
       "        \n",
       "        <tr>\n",
       "          <td>3</td><td>16.947600514838072</td>\n",
       "        </tr>\n",
       "        \n",
       "        <tr>\n",
       "          <td>4</td><td>20.69568624150116</td>\n",
       "        </tr>\n",
       "        \n",
       "        <tr>\n",
       "          <td>5</td><td>19.65408916540486</td>\n",
       "        </tr>\n",
       "        \n",
       "        <tr>\n",
       "          <td>6</td><td>20.10750539095609</td>\n",
       "        </tr>\n",
       "        \n",
       "        <tr>\n",
       "          <td>7</td><td>18.616107409725245</td>\n",
       "        </tr>\n",
       "        \n",
       "        <tr>\n",
       "          <td>8</td><td>21.168149482467225</td>\n",
       "        </tr>\n",
       "        <tr><td>...</td><td>...</td></tr>\n",
       "        <tr>\n",
       "          <td>9999</td><td>19.736151921667798</td>\n",
       "        </tr>\n",
       "        \n",
       "      </tbody>\n",
       "    </table>\n",
       "        "
      ],
      "text/plain": [
       "Index Result\n",
       "0     21.991474078402565\n",
       "1     17.257167247388058\n",
       "2     21.01490037888625\n",
       "3     16.947600514838072\n",
       "4     20.69568624150116\n",
       "5     19.65408916540486\n",
       "6     20.10750539095609\n",
       "7     18.616107409725245\n",
       "8     21.168149482467225\n",
       "....  ..................\n",
       "9999  19.736151921667798"
      ]
     },
     "execution_count": 7,
     "metadata": {},
     "output_type": "execute_result"
    }
   ],
   "source": [
    "# The 2nd parameter is the mathematical operation applied to each row of the random vector\n",
    "# Simulate 10,000 means of each random vector of 25 uniform distributed numbers: \n",
    "xmean = RV(P,mean).sim(10000)\n",
    "xmean"
   ]
  },
  {
   "cell_type": "code",
   "execution_count": 8,
   "metadata": {},
   "outputs": [
    {
     "data": {
      "image/png": "[encoded data removed]",
      "text/plain": [
       "<Figure size 432x288 with 1 Axes>"
      ]
     },
     "metadata": {
      "needs_background": "light"
     },
     "output_type": "display_data"
    }
   ],
   "source": [
    "plt.clf()\n",
    "xmean.plot()\n",
    "plt.show()"
   ]
  },
  {
   "cell_type": "code",
   "execution_count": 9,
   "metadata": {},
   "outputs": [
    {
     "name": "stdout",
     "output_type": "stream",
     "text": [
      "Mean: 20.033574358923833\n",
      "Standard deviation: 2.3135508138917324\n",
      "Variance: 5.3525173684590985\n"
     ]
    }
   ],
   "source": [
    "xmean_mean = xmean.mean()\n",
    "xmean_std = xmean.std()\n",
    "xmean_var = xmean.var()\n",
    "print(\"Mean:\", xmean_mean)\n",
    "print(\"Standard deviation:\", xmean_std)\n",
    "print(\"Variance:\", xmean_var)\n",
    "\n",
    "# LA MEDIA ES MUY CERCANA PERO LA DESVIACIÓN ESTÁNDAR ES BASTANTE MENOR\n",
    "\n",
    "# SE APRECIA QUE LA LÓGICA ES QUE LOS VALORES SE APROXIMAN A LA MEDIA Y ENTRE MÁS SE ALEJAN MENOS VALORES HAY\n"
   ]
  },
  {
   "cell_type": "code",
   "execution_count": 10,
   "metadata": {},
   "outputs": [
    {
     "data": {
      "image/png": "[encoded data removed]",
      "text/plain": [
       "<Figure size 432x288 with 1 Axes>"
      ]
     },
     "metadata": {
      "needs_background": "light"
     },
     "output_type": "display_data"
    }
   ],
   "source": [
    "plt.clf()\n",
    "xmean.plot()\n",
    "x.plot()\n",
    "plt.show()\n",
    "\n",
    "# SE APRECIA QUE EL HISTOGRAMA DE X ES BASTANTE PLANO MIENTRAS QUE DE X_MEAN SE VAN LOS VALORES AL CENTRO"
   ]
  },
  {
   "cell_type": "code",
   "execution_count": 11,
   "metadata": {},
   "outputs": [
    {
     "data": {
      "image/png": "[encoded data removed]",
      "text/plain": [
       "<Figure size 432x288 with 1 Axes>"
      ]
     },
     "metadata": {
      "needs_background": "light"
     },
     "output_type": "display_data"
    }
   ],
   "source": [
    "# clear the plot space:\n",
    "plt.clf()\n",
    "# Define the probability type of function as uniform (probability space)\n",
    "P = Normal(mean=20, sd=10)\n",
    "# Define Y as a random variable of the type P (normal)\n",
    "Y =RV(P)\n",
    "# Simulate 10,000 values of Y and save the in the x array: \n",
    "y=Y.sim(10000)\n",
    "y.plot()\n",
    "plt.show()"
   ]
  },
  {
   "cell_type": "code",
   "execution_count": 12,
   "metadata": {},
   "outputs": [
    {
     "name": "stdout",
     "output_type": "stream",
     "text": [
      "Mean: 20.056361462508857\n",
      "Standard deviation: 10.07011386469748\n"
     ]
    }
   ],
   "source": [
    "y_mean = y.mean()\n",
    "y_std = y.std()\n",
    "print(\"Mean:\", y_mean)\n",
    "print(\"Standard deviation:\", y_std)\n",
    "\n",
    "# SON BASTANTE CERCANOS A LOS VALORES TEÓRICOS, ALEJANDONSE POR MENOS DE 2 DECIMAS\n",
    "\n",
    "# LA GRÁFICA COMPARTE LAS CARACTERÍSTICAS DEL X_MEAN: LA MAYOR DENSIDAD DE VALORES ESTÁ ENTRE MÁS SE ACERCA A LA MEDIA \n"
   ]
  },
  {
   "cell_type": "code",
   "execution_count": 13,
   "metadata": {},
   "outputs": [],
   "source": [
    "# Define the probability space P as a vector of 25 normal random numbers:\n",
    "P = Normal(mean=20, sd=10) ** 25\n",
    "# Define RANDOMVECTOR as a vector of 25 random variables in the Probability space P \n",
    "RANDOMVECTOR = RV(P)\n",
    "# Simulate 10,000 random vectors with this distribution and save the in ymatrix: \n",
    "ymatrix=RANDOMVECTOR.sim(10000)"
   ]
  },
  {
   "cell_type": "code",
   "execution_count": 14,
   "metadata": {},
   "outputs": [
    {
     "data": {
      "text/html": [
       "\n",
       "    <table>\n",
       "      <thead>\n",
       "        <th width=\"10%\">Index</th>\n",
       "        <th width=\"90%\">Result</th>\n",
       "      </thead>\n",
       "      <tbody>\n",
       "        \n",
       "        <tr>\n",
       "          <td>0</td><td>(8.170237289445023, 6.623472643186009, 10.493866724401453, 15.041817309095727, 26.097270525153018, ....</td>\n",
       "        </tr>\n",
       "        \n",
       "        <tr>\n",
       "          <td>1</td><td>(16.416046747033512, 25.71716859965271, 24.78007979458416, 34.61638967168181, 34.602720558985645, .....</td>\n",
       "        </tr>\n",
       "        \n",
       "        <tr>\n",
       "          <td>2</td><td>(28.657794942348964, 23.198171230957925, 23.256010994962406, 12.146107606029927, 26.651729285470253,...</td>\n",
       "        </tr>\n",
       "        \n",
       "        <tr>\n",
       "          <td>3</td><td>(24.263231555818347, 21.816713058622465, 17.075460158200887, 8.194943037945164, 10.456144154694627, ...</td>\n",
       "        </tr>\n",
       "        \n",
       "        <tr>\n",
       "          <td>4</td><td>(28.586343964278612, 35.972416233416965, 24.22703228905285, 1.631838207412045, 0.05046689837101681, ...</td>\n",
       "        </tr>\n",
       "        \n",
       "        <tr>\n",
       "          <td>5</td><td>(-0.6217602698938052, 36.73768509512105, 27.140251562850857, 16.6228764454764, 26.498850575822015, ....</td>\n",
       "        </tr>\n",
       "        \n",
       "        <tr>\n",
       "          <td>6</td><td>(24.76570972550688, 34.070051357047674, 21.483325800811205, 18.273518964108476, 20.466336295746366, ...</td>\n",
       "        </tr>\n",
       "        \n",
       "        <tr>\n",
       "          <td>7</td><td>(16.943362654646563, 23.714805843617988, 16.04064559065946, 29.908126195645213, 13.807297009472592, ...</td>\n",
       "        </tr>\n",
       "        \n",
       "        <tr>\n",
       "          <td>8</td><td>(-0.08328141128861688, 21.41690809466477, 10.582385383063212, 30.357526710126596, 26.279981567198067...</td>\n",
       "        </tr>\n",
       "        <tr><td>...</td><td>...</td></tr>\n",
       "        <tr>\n",
       "          <td>9999</td><td>(12.348042210568293, 30.156377988039306, 30.965957531913176, 15.408942717097439, 10.417405058549953,...</td>\n",
       "        </tr>\n",
       "        \n",
       "      </tbody>\n",
       "    </table>\n",
       "        "
      ],
      "text/plain": [
       "Index Result\n",
       "0     (8.170237289445023, 6.623472643186009, 10.493866724401453, 15.041817309095727, 26.097270525153018, ..., 27.346156767336005)\n",
       "1     (16.416046747033512, 25.71716859965271, 24.78007979458416, 34.61638967168181, 34.602720558985645, ..., 17.1527567704404)\n",
       "2     (28.657794942348964, 23.198171230957925, 23.256010994962406, 12.146107606029927, 26.651729285470253, ..., 24.156935397438875)\n",
       "3     (24.263231555818347, 21.816713058622465, 17.075460158200887, 8.194943037945164, 10.456144154694627, ..., 12.486582733951975)\n",
       "4     (28.586343964278612, 35.972416233416965, 24.22703228905285, 1.631838207412045, 0.05046689837101681, ..., 25.160575491279843)\n",
       "5     (-0.6217602698938052, 36.73768509512105, 27.140251562850857, 16.6228764454764, 26.498850575822015, ..., 15.316766593358446)\n",
       "6     (24.76570972550688, 34.070051357047674, 21.483325800811205, 18.273518964108476, 20.466336295746366, ..., 27.612204864904463)\n",
       "7     (16.943362654646563, 23.714805843617988, 16.04064559065946, 29.908126195645213, 13.807297009472592, ..., 30.802587542226654)\n",
       "8     (-0.08328141128861688, 21.41690809466477, 10.582385383063212, 30.357526710126596, 26.279981567198067, ..., 21.51301092424608)\n",
       "....  .............................................................................................................................\n",
       "9999  (12.348042210568293, 30.156377988039306, 30.965957531913176, 15.408942717097439, 10.417405058549953, ..., 19.957816898962857)"
      ]
     },
     "execution_count": 14,
     "metadata": {},
     "output_type": "execute_result"
    }
   ],
   "source": [
    "ymatrix"
   ]
  },
  {
   "cell_type": "code",
   "execution_count": 15,
   "metadata": {},
   "outputs": [
    {
     "data": {
      "text/html": [
       "\n",
       "    <table>\n",
       "      <thead>\n",
       "        <th width=\"10%\">Index</th>\n",
       "        <th width=\"90%\">Result</th>\n",
       "      </thead>\n",
       "      <tbody>\n",
       "        \n",
       "        <tr>\n",
       "          <td>0</td><td>18.54340847613683</td>\n",
       "        </tr>\n",
       "        \n",
       "        <tr>\n",
       "          <td>1</td><td>19.87648707318028</td>\n",
       "        </tr>\n",
       "        \n",
       "        <tr>\n",
       "          <td>2</td><td>19.11959232595344</td>\n",
       "        </tr>\n",
       "        \n",
       "        <tr>\n",
       "          <td>3</td><td>18.190775784513104</td>\n",
       "        </tr>\n",
       "        \n",
       "        <tr>\n",
       "          <td>4</td><td>19.767813985268777</td>\n",
       "        </tr>\n",
       "        \n",
       "        <tr>\n",
       "          <td>5</td><td>18.34921404332303</td>\n",
       "        </tr>\n",
       "        \n",
       "        <tr>\n",
       "          <td>6</td><td>20.244018216932567</td>\n",
       "        </tr>\n",
       "        \n",
       "        <tr>\n",
       "          <td>7</td><td>17.769056150560402</td>\n",
       "        </tr>\n",
       "        \n",
       "        <tr>\n",
       "          <td>8</td><td>16.980839801225105</td>\n",
       "        </tr>\n",
       "        <tr><td>...</td><td>...</td></tr>\n",
       "        <tr>\n",
       "          <td>9999</td><td>21.632658424354968</td>\n",
       "        </tr>\n",
       "        \n",
       "      </tbody>\n",
       "    </table>\n",
       "        "
      ],
      "text/plain": [
       "Index Result\n",
       "0     18.54340847613683\n",
       "1     19.87648707318028\n",
       "2     19.11959232595344\n",
       "3     18.190775784513104\n",
       "4     19.767813985268777\n",
       "5     18.34921404332303\n",
       "6     20.244018216932567\n",
       "7     17.769056150560402\n",
       "8     16.980839801225105\n",
       "....  ..................\n",
       "9999  21.632658424354968"
      ]
     },
     "execution_count": 15,
     "metadata": {},
     "output_type": "execute_result"
    }
   ],
   "source": [
    "# The 2nd parameter is the mathematical operation applied to each row of the random vector\n",
    "# Simulate 10,000 means of each random vector of 25 uniform distributed numbers: \n",
    "ymean = RV(P,mean).sim(10000)\n",
    "ymean"
   ]
  },
  {
   "cell_type": "code",
   "execution_count": 16,
   "metadata": {},
   "outputs": [
    {
     "data": {
      "image/png": "[encoded data removed]",
      "text/plain": [
       "<Figure size 432x288 with 1 Axes>"
      ]
     },
     "metadata": {
      "needs_background": "light"
     },
     "output_type": "display_data"
    }
   ],
   "source": [
    "plt.clf()\n",
    "ymean.plot()\n",
    "plt.show()"
   ]
  },
  {
   "cell_type": "code",
   "execution_count": 17,
   "metadata": {},
   "outputs": [
    {
     "name": "stdout",
     "output_type": "stream",
     "text": [
      "Mean: 20.03928868387221\n",
      "Standard deviation: 1.9874081063919722\n"
     ]
    }
   ],
   "source": [
    "ymean_mean = ymean.mean()\n",
    "ymean_std = ymean.std()\n",
    "print(\"Mean:\", ymean_mean)\n",
    "print(\"Standard deviation:\", ymean_std)\n",
    "\n",
    "# LA MEDIA ES PRACTICAMENTE LA MISMA, MIENTRAS QUE LA DESVIACIÓN ESTÁNDAR ES APROXIMADAMENTE UN DECIMO DE LA ANTERIOR\n",
    "\n",
    "# PARECE QUE TIENE UNA RELACIÓN IMPORTANTE CON Y DEBIDO A QUE CONSERVA EL PROMEDIO Y LA PROPIEDAD DE QUE ENTRE MÁS SE ALEJA DE ÉL MENOS DENSIDAD HAY, SOLO QUE LOS VALORES SE HAN JUNTADO TODAVÍA MÁS AL CENTRO"
   ]
  },
  {
   "cell_type": "code",
   "execution_count": 18,
   "metadata": {},
   "outputs": [
    {
     "data": {
      "image/png": "[encoded data removed]",
      "text/plain": [
       "<Figure size 432x288 with 1 Axes>"
      ]
     },
     "metadata": {
      "needs_background": "light"
     },
     "output_type": "display_data"
    }
   ],
   "source": [
    "plt.clf()\n",
    "ymean.plot()\n",
    "y.plot()\n",
    "plt.show()\n",
    "\n",
    "# SE OBSERVA LO QUE MENCIONÉ EN LA SECCIÓN ANTERIOR: SON MUY PARECIDAS SOLO QUE LA DESVIACIÓN ESTÁNDAR HA DISMINUIDO. LO QUE ME PARECE QUE PASA ES QUE AL SACAR LOS PROMEDIOS LOS VALORES SE MUEVEN MÁS AL CENTRO"
   ]
  },
  {
   "cell_type": "code",
   "execution_count": 19,
   "metadata": {},
   "outputs": [],
   "source": [
    "import numpy as np\n",
    "import pandas as pd\n",
    "import pandas_datareader as pdr\n",
    "\n",
    "MSFT = pdr.get_data_yahoo('MSFT',\n",
    "start=\"01/01/2017\", interval=\"d\")"
   ]
  },
  {
   "cell_type": "code",
   "execution_count": 32,
   "metadata": {},
   "outputs": [
    {
     "name": "stdout",
     "output_type": "stream",
     "text": [
      "MSFT mean: 0.0011453264905279077\n",
      "MSFT std: 0.01788653777703098\n",
      "Sample mean: 0.0012878720004148255\n",
      "Sample std: 0.008093402288956355\n",
      "Critical value: 1.701130934265931\n",
      "T value: 0.856920578653474\n"
     ]
    }
   ],
   "source": [
    "MSFT[\"r\"] = np.log(MSFT['Adj Close']) - np.log(MSFT['Adj Close'].shift(1))\n",
    "# H0: MSFT[\"r\"] <= 0; Ha: MSFT[\"r\"] > 0\n",
    "msft_mean = MSFT[\"r\"].mean()\n",
    "msft_std = MSFT[\"r\"].std()\n",
    "\n",
    "sample = MSFT[\"r\"][1:30]\n",
    "sample_mean = sample.mean()\n",
    "sample_std = sample.std()\n",
    "print(\"MSFT mean:\", msft_mean)\n",
    "print(\"MSFT std:\", msft_std)\n",
    "print(\"Sample mean:\", sample_mean)\n",
    "print(\"Sample std:\", sample_std)\n",
    "\n",
    "import scipy\n",
    "t_critical_value = scipy.stats.t.ppf(q=0.95, df=sample.count()-1)\n",
    "print(\"Critical value:\", t_critical_value)\n",
    "t = (sample_mean - 0) / (sample_std / math.sqrt(sample.count()))\n",
    "print(\"T value:\", t)\n",
    "\n",
    "# SE PUEDE VER QUE EL T VALUE ES MENOR AL CRITICAL VALUE POR LO QUE NO SE PUEDE DESCARTAR LA HIPÓTESIS NULA\n"
   ]
  }
 ],
 "metadata": {
  "kernelspec": {
   "display_name": "Python 3.8.10 64-bit",
   "language": "python",
   "name": "python3"
  },
  "language_info": {
   "codemirror_mode": {
    "name": "ipython",
    "version": 3
   },
   "file_extension": ".py",
   "mimetype": "text/x-python",
   "name": "python",
   "nbconvert_exporter": "python",
   "pygments_lexer": "ipython3",
   "version": "3.8.10"
  },
  "orig_nbformat": 4,
  "vscode": {
   "interpreter": {
    "hash": "916dbcbb3f70747c44a77c7bcd40155683ae19c65e1c03b4aa3499c5328201f1"
   }
  }
 },
 "nbformat": 4,
 "nbformat_minor": 2
}
